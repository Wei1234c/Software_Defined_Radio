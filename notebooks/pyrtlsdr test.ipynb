{
 "cells": [
  {
   "cell_type": "markdown",
   "metadata": {},
   "source": [
    "# pyrtlsdr test\n",
    "\n",
    "https://github.com/roger-/pyrtlsdr  \n",
    "https://github.com/steve-m/librtlsdr  \n",
    "https://github.com/librtlsdr/librtlsdr/releases  "
   ]
  },
  {
   "cell_type": "markdown",
   "metadata": {},
   "source": [
    "```\n",
    " pip install pyrtlsdr\n",
    " \n",
    " pip uninstall pyrtlsdr\n",
    "```"
   ]
  },
  {
   "cell_type": "markdown",
   "metadata": {},
   "source": [
    "## Simple way to read and print some samples:"
   ]
  },
  {
   "cell_type": "code",
   "execution_count": 11,
   "metadata": {},
   "outputs": [],
   "source": [
    "# sdr.close()"
   ]
  },
  {
   "cell_type": "code",
   "execution_count": 12,
   "metadata": {
    "scrolled": false
   },
   "outputs": [
    {
     "data": {
      "text/plain": [
       "array([ 0.00392157-0.00392157j,  0.00392157-0.00392157j,\n",
       "       -0.00392157+0.00392157j, -0.00392157+0.00392157j,\n",
       "       -0.00392157-0.00392157j])"
      ]
     },
     "execution_count": 12,
     "metadata": {},
     "output_type": "execute_result"
    }
   ],
   "source": [
    "from rtlsdr import RtlSdr\n",
    "\n",
    "sdr = RtlSdr()\n",
    "\n",
    "# configure device\n",
    "sdr.sample_rate = 2.048e6  # Hz\n",
    "sdr.center_freq = 70e6     # Hz\n",
    "sdr.freq_correction = 60   # PPM\n",
    "sdr.gain = 'auto'\n",
    "\n",
    "samples = sdr.read_samples(512)\n",
    "sdr.close()\n",
    "\n",
    "samples[:5]"
   ]
  },
  {
   "cell_type": "markdown",
   "metadata": {},
   "source": [
    "## Plotting the PSD with matplotlib:"
   ]
  },
  {
   "cell_type": "code",
   "execution_count": 13,
   "metadata": {},
   "outputs": [
    {
     "data": {
      "image/png": "[encoded data removed]",
      "text/plain": [
       "<Figure size 432x288 with 1 Axes>"
      ]
     },
     "metadata": {
      "needs_background": "light"
     },
     "output_type": "display_data"
    }
   ],
   "source": [
    "from pylab import *\n",
    "from rtlsdr import *\n",
    "\n",
    "sdr = RtlSdr()\n",
    "\n",
    "# configure device\n",
    "sdr.sample_rate = 2.4e6\n",
    "sdr.center_freq = 95e6\n",
    "sdr.gain = 4\n",
    "\n",
    "samples = sdr.read_samples(256*1024)\n",
    "sdr.close()\n",
    "\n",
    "# use matplotlib to estimate and plot the PSD\n",
    "psd(samples, NFFT=1024, Fs=sdr.sample_rate/1e6, Fc=sdr.center_freq/1e6)\n",
    "xlabel('Frequency (MHz)')\n",
    "ylabel('Relative power (dB)')\n",
    "\n",
    "show()"
   ]
  }
 ],
 "metadata": {
  "kernelspec": {
   "display_name": "Python 3",
   "language": "python",
   "name": "python3"
  },
  "language_info": {
   "codemirror_mode": {
    "name": "ipython",
    "version": 3
   },
   "file_extension": ".py",
   "mimetype": "text/x-python",
   "name": "python",
   "nbconvert_exporter": "python",
   "pygments_lexer": "ipython3",
   "version": "3.6.10"
  }
 },
 "nbformat": 4,
 "nbformat_minor": 2
}
