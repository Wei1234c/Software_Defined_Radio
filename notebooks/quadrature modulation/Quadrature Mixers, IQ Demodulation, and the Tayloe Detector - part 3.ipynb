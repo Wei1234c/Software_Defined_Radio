{
 "cells": [
  {
   "cell_type": "markdown",
   "metadata": {},
   "source": [
    "# Quadrature Mixers, IQ Demodulation, and the Tayloe Detector - part 3\n",
    "- https://www.youtube.com/watch?v=JuuKF1RFvBM  \n",
    "- http://www.analogzoo.com/2015/08/quadrature-mixers/  \n",
    "- https://en.wikipedia.org/wiki/In-phase_and_quadrature_components"
   ]
  },
  {
   "cell_type": "code",
   "execution_count": 1,
   "metadata": {},
   "outputs": [],
   "source": [
    "import os, sys\n",
    "\n",
    "def gen_relative_path(target_path): \n",
    "    \n",
    "    def del_same_parents(target_path, current_path):\n",
    "        if len(target_path) * len(current_path) > 0:\n",
    "            if target_path[0] == current_path[0]:\n",
    "                target_path.pop(0)\n",
    "                current_path.pop(0)\n",
    "                del_same_parents(target_path, current_path)\n",
    "            \n",
    "    current_path = os.getcwd().replace('\\\\', '/').split('/')\n",
    "    target_path = target_path.replace('\\\\', '/').split('/')\n",
    "    del_same_parents(target_path, current_path)\n",
    "    \n",
    "    return ['..'] * len(current_path) + target_path\n",
    "\n",
    "\n",
    "def append_source_relative_path(source_relative_path):\n",
    "    sys.path.append(os.sep.join(source_relative_path))"
   ]
  },
  {
   "cell_type": "code",
   "execution_count": 2,
   "metadata": {},
   "outputs": [],
   "source": [
    "# paths = ['']\n",
    "# paths = [gen_relative_path(p) for p in paths]\n",
    "# print(paths)"
   ]
  },
  {
   "cell_type": "code",
   "execution_count": 3,
   "metadata": {},
   "outputs": [],
   "source": [
    "paths = [['..', '..', '..', '..', '..', 'Waves', 'bitbucket', 'github', 'codes'],\n",
    "         ['..', 'codes']]\n",
    "\n",
    "for path in paths:\n",
    "    append_source_relative_path(path)"
   ]
  },
  {
   "cell_type": "code",
   "execution_count": 4,
   "metadata": {},
   "outputs": [
    {
     "name": "stdout",
     "output_type": "stream",
     "text": [
      "Populating the interactive namespace from numpy and matplotlib\n"
     ]
    }
   ],
   "source": [
    "%pylab inline\n",
    "\n",
    "from waves.sound import *"
   ]
  },
  {
   "cell_type": "code",
   "execution_count": 5,
   "metadata": {},
   "outputs": [],
   "source": [
    "import warnings \n",
    "\n",
    "warnings.filterwarnings('ignore')"
   ]
  },
  {
   "cell_type": "code",
   "execution_count": 6,
   "metadata": {},
   "outputs": [],
   "source": [
    "from ipywidgets import interactive"
   ]
  },
  {
   "cell_type": "code",
   "execution_count": 7,
   "metadata": {},
   "outputs": [],
   "source": [
    "def show_pair(sig_left, sig_right, frames = 300, *args, **kwargs):\n",
    "    sig_left.show(color  = 'red'  , show_frames = slice(0, frames), *args, **kwargs)\n",
    "    sig_right.show(color = 'green', show_frames = slice(0, frames), *args, **kwargs)"
   ]
  },
  {
   "cell_type": "markdown",
   "metadata": {},
   "source": [
    "## LO"
   ]
  },
  {
   "cell_type": "code",
   "execution_count": 8,
   "metadata": {},
   "outputs": [],
   "source": [
    "freq_lo = int(100e3)\n",
    "freq_sampling = freq_lo * 8 * 2\n",
    "\n",
    "duration_seconds = 1\n",
    "t = np.linspace(0, duration_seconds, duration_seconds * freq_sampling)"
   ]
  },
  {
   "cell_type": "code",
   "execution_count": 9,
   "metadata": {},
   "outputs": [],
   "source": [
    "LO_I = Channel(np.cos(PI2 * freq_lo * t), ts = t, framerate = freq_sampling)\n",
    "LO_Q = Channel(np.sin(PI2 * freq_lo * t), ts = t, framerate = freq_sampling) \n",
    "\n",
    "# show_pair(LO_I, LO_Q, 100)\n",
    "# plt.figure()\n",
    "# LO_I.make_spectrum().plot(freq_lims = (1, freq_sampling))"
   ]
  },
  {
   "cell_type": "markdown",
   "metadata": {},
   "source": [
    "## RF"
   ]
  },
  {
   "cell_type": "code",
   "execution_count": 10,
   "metadata": {},
   "outputs": [],
   "source": [
    "def make_signal(freq, amp_I = 1.0, amp_Q = 1.0, ts = t, framerate = freq_sampling):\n",
    "    I = Channel(1  * np.cos(PI2 * freq * t) * amp_I, ts = t, framerate = freq_sampling)\n",
    "    Q = Channel(1j * np.sin(PI2 * freq * t) * amp_Q, ts = t, framerate = freq_sampling) \n",
    "    return  Channel(I.ys + Q.ys, ts = t, framerate = freq_sampling) "
   ]
  },
  {
   "cell_type": "markdown",
   "metadata": {},
   "source": [
    "## Demodulation"
   ]
  },
  {
   "cell_type": "code",
   "execution_count": 11,
   "metadata": {},
   "outputs": [],
   "source": [
    "freq_if = int(1e3)\n",
    "freq_rf = freq_lo + freq_if\n",
    "figsize  = (3,2)\n",
    " \n",
    "def process(amp_I = 1.0, amp_Q = 1.0):\n",
    "#     RF_1 = make_signal(freq = freq_rf, amp_I = amp_I, amp_Q = amp_Q)\n",
    "#     RF_2 = make_signal(freq = freq_rf, amp_I = 1.0  , amp_Q = 1.0)\n",
    "    \n",
    "    RF_1 = make_signal(freq = freq_lo + freq_if, amp_I = amp_I, amp_Q = amp_Q)\n",
    "    RF_2 = make_signal(freq = freq_lo - freq_if, amp_I = 1.0  , amp_Q = 1.0)\n",
    "\n",
    "    def demodulat(sig):\n",
    "        I = sig * LO_I\n",
    "        Q = sig * LO_Q \n",
    "        \n",
    "        I = I.filter(low_pass_cutoff = freq_if * 2)\n",
    "        Q = Q.filter(low_pass_cutoff = freq_if * 2)  \n",
    "        \n",
    "        return I, Q, I + Q \n",
    "    \n",
    "    IF_1_I, IF_1_Q, IF_1 = demodulat(RF_1)\n",
    "    IF_2_I, IF_2_Q, IF_2 = demodulat(RF_2)  \n",
    "    \n",
    "    ## 兩個 channels 的比較\n",
    "    plt.figure(figsize = figsize)\n",
    "    plt.title('Channels')\n",
    "    show_pair(IF_1, IF_2, 3000)\n",
    "\n",
    "    ### Cosine portions\n",
    "    plt.figure(figsize = figsize)\n",
    "    plt.title('Cosine')\n",
    "    show_pair(IF_1_I, IF_2_I, 3000)\n",
    "\n",
    "    ### Sine portions\n",
    "    plt.figure(figsize = figsize)\n",
    "    plt.title('Sine')\n",
    "    show_pair(IF_1_Q, IF_2_Q, 3000)    "
   ]
  },
  {
   "cell_type": "code",
   "execution_count": 12,
   "metadata": {},
   "outputs": [
    {
     "data": {
      "application/vnd.jupyter.widget-view+json": {
       "model_id": "fbe6e48928fc4de8b884bc802872fcc8",
       "version_major": 2,
       "version_minor": 0
      },
      "text/plain": [
       "interactive(children=(FloatSlider(value=1.0, description='amp_I', max=1.0, step=0.25), FloatSlider(value=1.0, …"
      ]
     },
     "metadata": {},
     "output_type": "display_data"
    }
   ],
   "source": [
    "interactive(process, amp_I = (0, 1, 1/4), amp_Q = (0, 1, 1/4))"
   ]
  },
  {
   "cell_type": "markdown",
   "metadata": {},
   "source": [
    "## Summary\n",
    "- "
   ]
  },
  {
   "cell_type": "markdown",
   "metadata": {},
   "source": [
    "#### 用 $cosine$ 訊號做 shifter:\n",
    "- IF 被 shift 到 以 LO頻率 為中心的 正負 IF頻率\n",
    "- new frequency = (freq_IF - freq_LO) + (freq_IF + freq_LO)，能量均分  \n",
    "\n",
    "#### 三角函數的乘法:  \n",
    "\n",
    "$\n",
    "\\begin{align}\n",
    " \\sin(x) \\cos(y) &= \\frac{1}{2} [\\sin(x+y) + \\sin(x-y)] \\\\ \n",
    " \\cos(x) \\sin(y) &= \\frac{1}{2} [\\sin(x+y) - \\sin(x-y)] \\\\ \n",
    " \\cos(x) \\cos(y) &= \\frac{1}{2} [\\cos(x-y) + \\cos(x+y)] \\\\ \n",
    " \\sin(x) \\sin(y) &= \\frac{1}{2} [\\cos(x-y) - \\cos(x+y)] \\\\  \n",
    "\\end{align}\n",
    "$  \n",
    "\n",
    "####  用 cosine 訊號做 shifter:  \n",
    "\n",
    "$\n",
    "\\begin{align}\n",
    " \\cos({\\omega_1 t}) \\cdot e^{j\\omega_2 t} &= \\cos(\\omega_1 t) \\cdot (\\cos(\\omega_2 t) + j\\sin(\\omega_2 t)) \\\\ \n",
    " &= \\cos(\\omega_1 t) \\cos(\\omega_2 t) + j\\cos(\\omega_1 t)\\sin(\\omega_2 t) \\\\ \n",
    " &= \\frac{1}{2} (\\cos((\\omega_1 - \\omega_2) t) + \\cos((\\omega_1 + \\omega_2) t)) + \\frac{1}{2}j \\cdot(\\sin((\\omega_1 + \\omega_2) t) -\\sin((\\omega_1 - \\omega_2) t))) \\\\ \n",
    " &= \\frac{1}{2} (\\cos((\\omega_1 - \\omega_2) t) -j\\sin((\\omega_1 - \\omega_2) t) + \\cos((\\omega_1 + \\omega_2) t)) + j\\sin((\\omega_1 + \\omega_2) t) ) \\\\ \n",
    " &= \\frac{1}{2} ((\\cos((\\omega_1 - \\omega_2) t) -j\\sin((\\omega_1 - \\omega_2) t)) + (\\cos((\\omega_1 + \\omega_2) t)) + j\\sin((\\omega_1 + \\omega_2) t))) \\\\ \n",
    " &= \\frac{1}{2} (e^{j(\\omega_2 - \\omega_1) t} + e^{j(\\omega_2 + \\omega_1) t}) \\\\ \n",
    " &= \\frac{1}{2} e^{j(\\omega_2 - \\omega_1) t} + \\frac{1}{2}e^{j(\\omega_2 + \\omega_1) t} \\\\ \n",
    "\\end{align}\n",
    "$\n",
    "\n"
   ]
  }
 ],
 "metadata": {
  "kernelspec": {
   "display_name": "Python 3",
   "language": "python",
   "name": "python3"
  },
  "language_info": {
   "codemirror_mode": {
    "name": "ipython",
    "version": 3
   },
   "file_extension": ".py",
   "mimetype": "text/x-python",
   "name": "python",
   "nbconvert_exporter": "python",
   "pygments_lexer": "ipython3",
   "version": "3.6.10"
  }
 },
 "nbformat": 4,
 "nbformat_minor": 2
}
