{
 "cells": [
  {
   "cell_type": "markdown",
   "metadata": {},
   "source": [
    "# A Quadrature Signals Tutorial, Complex, But Not Complicated\n",
    "https://mriquestions.com/uploads/3/4/5/7/34572113/quad_signals_tutorial-lyons.pdf"
   ]
  },
  {
   "cell_type": "code",
   "execution_count": 1,
   "metadata": {},
   "outputs": [],
   "source": [
    "import os, sys\n",
    "\n",
    "def gen_relative_path(target_path): \n",
    "    \n",
    "    def del_same_parents(target_path, current_path):\n",
    "        if len(target_path) * len(current_path) > 0:\n",
    "            if target_path[0] == current_path[0]:\n",
    "                target_path.pop(0)\n",
    "                current_path.pop(0)\n",
    "                del_same_parents(target_path, current_path)\n",
    "            \n",
    "    current_path = os.getcwd().replace('\\\\', '/').split('/')\n",
    "    target_path = target_path.replace('\\\\', '/').split('/')\n",
    "    del_same_parents(target_path, current_path)\n",
    "    \n",
    "    return ['..'] * len(current_path) + target_path\n",
    "\n",
    "\n",
    "def append_source_relative_path(source_relative_path):\n",
    "    sys.path.append(os.sep.join(source_relative_path))"
   ]
  },
  {
   "cell_type": "code",
   "execution_count": 2,
   "metadata": {},
   "outputs": [],
   "source": [
    "# paths = ['']\n",
    "# paths = [gen_relative_path(p) for p in paths]\n",
    "# print(paths)"
   ]
  },
  {
   "cell_type": "code",
   "execution_count": 3,
   "metadata": {},
   "outputs": [],
   "source": [
    "paths = [['..', '..', '..', '..', '..', 'Waves', 'bitbucket', 'github', 'codes'],\n",
    "         ['..', 'codes']]\n",
    "\n",
    "for path in paths:\n",
    "    append_source_relative_path(path)"
   ]
  },
  {
   "cell_type": "code",
   "execution_count": 4,
   "metadata": {},
   "outputs": [
    {
     "name": "stdout",
     "output_type": "stream",
     "text": [
      "Populating the interactive namespace from numpy and matplotlib\n"
     ]
    }
   ],
   "source": [
    "%pylab inline\n",
    "\n",
    "from waves.sound import *\n",
    "from waves.tools.dsp.mixers.frequency_mixers import *"
   ]
  },
  {
   "cell_type": "code",
   "execution_count": 5,
   "metadata": {},
   "outputs": [],
   "source": [
    "import warnings \n",
    "\n",
    "warnings.filterwarnings('ignore')"
   ]
  },
  {
   "cell_type": "code",
   "execution_count": 6,
   "metadata": {},
   "outputs": [],
   "source": [
    "def show_pair(sig_left, sig_right, frames = 300):\n",
    "    sig_left.show(color = 'red', show_frames = slice(0, frames))\n",
    "    sig_right.show(color = 'green', show_frames = slice(0, frames))"
   ]
  },
  {
   "cell_type": "markdown",
   "metadata": {},
   "source": [
    "## LO"
   ]
  },
  {
   "cell_type": "code",
   "execution_count": 7,
   "metadata": {},
   "outputs": [],
   "source": [
    "phase_shift = PI2 / 8"
   ]
  },
  {
   "cell_type": "code",
   "execution_count": 8,
   "metadata": {},
   "outputs": [],
   "source": [
    "freq_lo = int(100e3)\n",
    "\n",
    "freq_sampling = freq_lo * 8 * 2"
   ]
  },
  {
   "cell_type": "code",
   "execution_count": 9,
   "metadata": {},
   "outputs": [],
   "source": [
    "duration_seconds = 1\n",
    "t = np.linspace(0, duration_seconds, duration_seconds * freq_sampling)"
   ]
  },
  {
   "cell_type": "markdown",
   "metadata": {},
   "source": [
    "$\n",
    "\\begin{align}\n",
    "\\cos(2\\pi f_o t ) &=  \\frac{e^{-j2\\pi f_ot} + e^{j2\\pi f_ot} }{2} \\\\\n",
    "                  &=  \\frac{e^{-j2\\pi f_ot}}{2} + \\frac{e^{j2\\pi f_ot} }{2} \\\\ \n",
    "\\sin(2\\pi f_o t ) &=  \\frac{e^{j 2\\pi f_ot} - e^{-j2\\pi f_ot} }{2j} \\\\\n",
    "                  &=  j\\frac{e^{-j2\\pi f_ot}}{2} -j \\frac{e^{j2\\pi f_ot} }{2} \\\\\n",
    "signal            &= e^{j 2\\pi \\omega t} \\\\\n",
    "                  &= \\cos(2\\pi \\omega t ) + j\\sin(2\\pi \\omega t ) \\\\\n",
    "                  &= \\frac{e^{-j2\\pi \\omega t}}{2} + \\frac{e^{j2\\pi \\omega t} }{2} +j(j\\frac{e^{-j2\\pi \\omega t}}{2} -j \\frac{e^{j2\\pi \\omega t} }{2}) \\\\\n",
    "                  &= \\frac{e^{-j2\\pi \\omega t}}{2} + \\frac{e^{j2\\pi \\omega t} }{2} -\\frac{e^{-j2\\pi \\omega t}}{2} + \\frac{e^{j2\\pi \\omega t} }{2} \\\\\n",
    "                  &=    e^{j2\\pi \\omega t} \\\\\n",
    "signal \\cdot \\cos(2\\pi f_o t ) &= e^{j 2\\pi \\omega t} \\cdot (\\frac{e^{-j2\\pi f_ot}}{2} + \\frac{e^{j2\\pi f_ot} }{2}) \\\\ \n",
    "                  &=  \\frac{e^{-j2\\pi t(f_o - \\omega )}}{2} + \\frac{e^{j2\\pi t ( f_o + \\omega )} }{2} \\\\\n",
    "signal \\cdot \\sin(2\\pi f_o t ) &= e^{j 2\\pi \\omega t} \\cdot (j\\frac{e^{-j2\\pi f_ot}}{2} -j \\frac{e^{j2\\pi f_ot} }{2}) \\\\ \n",
    "                  &=  j\\frac{e^{-j2\\pi t( f_o - \\omega)}}{2} -j \\frac{e^{j2\\pi t (f_o + \\omega)} }{2} \\\\\n",
    "IF                &= signal \\cdot \\cos(2\\pi f_o t ) + signal \\cdot \\sin(2\\pi f_o t ) \\\\\n",
    "                  &= \\frac{e^{-j2\\pi t(f_o - \\omega )}}{2} + \\frac{e^{j2\\pi t ( f_o + \\omega )} }{2} +  j\\frac{e^{-j2\\pi t( f_o - \\omega)}}{2} -j \\frac{e^{j2\\pi t (f_o + \\omega)} }{2} \\\\\n",
    "                  &= \\frac{e^{-j2\\pi t(f_o - \\omega )}}{2} +  j\\frac{e^{-j2\\pi t( f_o - \\omega)}}{2} + \\frac{e^{j2\\pi t ( f_o + \\omega )} }{2}-j \\frac{e^{j2\\pi t (f_o + \\omega)} }{2} \\\\\n",
    "                  &= e^{-j2\\pi t(f_o - \\omega )}(\\frac{1 + j}{2}) + e^{j2\\pi t ( f_o + \\omega )} (\\frac{1 - j}{2}) \\\\\n",
    "I                 &= IF \\cdot \\cos(2\\pi f_o t) \\\\\n",
    "                  &= (e^{-j2\\pi t(f_o - \\omega )}(\\frac{1 + j}{2}) + e^{j2\\pi t ( f_o + \\omega )} (\\frac{1 - j}{2})) \\cdot \\cos(2\\pi f_o t) \\\\ \n",
    "                  &= (e^{-j2\\pi t(f_o - \\omega )}(\\frac{1 + j}{2}) + e^{j2\\pi t ( f_o + \\omega )} (\\frac{1 - j}{2})) \\cdot \\frac{{(  e^{-j2\\pi f_ot}  + e^{j2\\pi f_ot} })}{2} \\\\                   \n",
    "                  &= \\frac{(e^{-j2\\pi t(f_o - \\omega )}(\\frac{1 + j}{2}) + e^{j2\\pi t ( f_o + \\omega )} (\\frac{1 - j}{2})) \\cdot ( e^{-j2\\pi f_ot}  +  e^{j2\\pi f_ot} )} {2}\\\\ \n",
    "                  &= \\frac{(e^{-j2\\pi t(2f_o - \\omega )}(\\frac{1 + j}{2}) + e^{j2\\pi t ( \\omega )} (\\frac{1 - j}{2}) + e^{-j2\\pi t(  - \\omega )}(\\frac{1 + j}{2}) + e^{j2\\pi t( 2f_o + \\omega )}(\\frac{1 - j}{2}))} {2}\\\\                  \n",
    "                  &= \\frac{(e^{-j2\\pi t(2f_o - \\omega )}(\\frac{1 + j}{2}) + e^{j2\\pi t  \\omega} (\\frac{1 - j}{2}) + e^{j2\\pi t\\omega }(\\frac{1 + j}{2}) + e^{j2\\pi t( 2f_o + \\omega )}(\\frac{1 - j}{2}))} {2}\\\\ \n",
    "                  &= \\frac{(e^{-j2\\pi t(2f_o - \\omega )}(\\frac{1 + j}{2}) + e^{j2\\pi t  \\omega}   + e^{j2\\pi t( 2f_o + \\omega )}(\\frac{1 - j}{2}))} {2}\\\\ \n",
    "I_{low_pass}      &\\approx \\frac{e^{j2\\pi    \\omega t } }{4}  \\\\\n",
    "Q                 &= IF \\cdot \\sin(2\\pi f_o t) \\\\\n",
    "                  &= (e^{-j2\\pi t(f_o - \\omega )}(\\frac{1 + j}{2}) + e^{j2\\pi t ( f_o + \\omega )} (\\frac{1 - j}{2})) \\cdot ( j\\frac{e^{-j2\\pi f_ot}}{2} -j \\frac{e^{j2\\pi f_ot} }{2}) \\\\ \n",
    "                  &= \\frac{(e^{-j2\\pi t(f_o - \\omega )}(\\frac{1 + j}{2}) + e^{j2\\pi t ( f_o + \\omega )} (\\frac{1 - j}{2})) \\cdot (  e^{-j2\\pi f_ot} - e^{j2\\pi f_ot} )}{2} j\\\\    \n",
    "                  &= \\frac{(e^{-j2\\pi t(2f_o - \\omega )}(\\frac{1 + j}{2}) + e^{j2\\pi t  \\omega} -e^{-j2\\pi t(2f_o - \\omega )}(\\frac{1 + j}{2}) }{2} j\\\\       \n",
    "Q_{low_pass}      &\\approx \\frac{e^{j2\\pi    \\omega t } }{4} j \\\\\n",
    "(I_{low_pass} -j Q_{low_pass}) \\cdot 2 &=  (\\frac{e^{j2\\pi    \\omega t } }{4} + \\frac{e^{j2\\pi    \\omega t } }{4} ) \\cdot 2 =  e^{j2\\pi    \\omega t } = original \\space signal\n",
    "\\end{align}\n",
    "$  "
   ]
  }
 ],
 "metadata": {
  "kernelspec": {
   "display_name": "Python 3",
   "language": "python",
   "name": "python3"
  },
  "language_info": {
   "codemirror_mode": {
    "name": "ipython",
    "version": 3
   },
   "file_extension": ".py",
   "mimetype": "text/x-python",
   "name": "python",
   "nbconvert_exporter": "python",
   "pygments_lexer": "ipython3",
   "version": "3.6.10"
  }
 },
 "nbformat": 4,
 "nbformat_minor": 2
}
