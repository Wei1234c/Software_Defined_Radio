{
 "cells": [
  {
   "cell_type": "markdown",
   "metadata": {},
   "source": [
    "# Setup rtlsdr.dll on Windows\n",
    "\n",
    "\n",
    "### Refer to:\n",
    "- https://www.rtl-sdr.com/rtl-sdr-quick-start-guide/\n",
    "- the `install-rtlsdr.bat` file in SDRSharp application folder:  \n",
    "\n",
    "```\n",
    "@echo off\n",
    "\n",
    "mkdir tmp\n",
    "\n",
    "echo Downloading RTLSDR Driver\n",
    "httpget http://osmocom.org/attachments/download/2242/RelWithDebInfo.zip tmp\\RelWithDebInfo.zip\n",
    "\n",
    "echo Downloading Zadig\n",
    "set zadig_url=b721/zadig-2.4.exe\n",
    "ver | findstr /l \"5.1.\" > NUL\n",
    "if %errorlevel% equ 0 set zadig_url=v1.2.5/zadig_xp-2.2.exe\n",
    "httpget http://github.com/pbatard/libwdi/releases/download/%zadig_url% zadig.exe\n",
    "\n",
    "unzip -o tmp\\RelWithDebInfo.zip -d tmp\n",
    "move tmp\\rtl-sdr-release\\x32\\rtlsdr.dll .\n",
    "\n",
    "rmdir tmp /S /Q\n",
    "\n",
    "pause\n",
    "```\n",
    "\n",
    "## Copy \n",
    "- Download and unzip [RelWithDebInfo.zip](http://osmocom.org/attachments/download/2242/RelWithDebInfo.zip) as folder [rtl-sdr-release](rtl-sdr-release.rar)\n",
    "    - Copy `rtl-sdr-release\\x32\\rtlsdr.dll` into `C:\\Windows\\SysWOW64`\n",
    "    - Copy `rtl-sdr-release\\x64\\rtlsdr.dll` into `C:\\Windows\\System32`"
   ]
  }
 ],
 "metadata": {
  "kernelspec": {
   "display_name": "Python 3",
   "language": "python",
   "name": "python3"
  },
  "language_info": {
   "codemirror_mode": {
    "name": "ipython",
    "version": 3
   },
   "file_extension": ".py",
   "mimetype": "text/x-python",
   "name": "python",
   "nbconvert_exporter": "python",
   "pygments_lexer": "ipython3",
   "version": "3.6.9"
  }
 },
 "nbformat": 4,
 "nbformat_minor": 2
}
