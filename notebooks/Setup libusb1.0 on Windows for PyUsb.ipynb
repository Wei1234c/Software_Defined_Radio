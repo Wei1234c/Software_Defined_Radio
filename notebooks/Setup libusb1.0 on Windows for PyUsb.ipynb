{
 "cells": [
  {
   "cell_type": "markdown",
   "metadata": {},
   "source": [
    "# Setup libusb1.0 on Windows for \n",
    "https://github.com/libusb/libusb  \n",
    "https://github.com/libusb/libusb/wiki  \n",
    "https://sourceforge.net/projects/libusb/files/  \n",
    "https://sourceforge.net/projects/libusb/  \n",
    "\n",
    "- Download Window binary `(libusb-1.0.22.7z)` from [libusb](https://libusb.info/) \n",
    "- Unzip `libusb-1.0.22.7z` and:\n",
    "    - copy `MS32\\dll\\libusb-1.0.dll` into `C:\\Windows\\SysWOW64`\n",
    "    - copy `MS64\\dll\\libusb-1.0.dll` into `C:\\Windows\\System32`"
   ]
  }
 ],
 "metadata": {
  "kernelspec": {
   "display_name": "Python 3",
   "language": "python",
   "name": "python3"
  },
  "language_info": {
   "codemirror_mode": {
    "name": "ipython",
    "version": 3
   },
   "file_extension": ".py",
   "mimetype": "text/x-python",
   "name": "python",
   "nbconvert_exporter": "python",
   "pygments_lexer": "ipython3",
   "version": "3.6.10"
  }
 },
 "nbformat": 4,
 "nbformat_minor": 2
}
