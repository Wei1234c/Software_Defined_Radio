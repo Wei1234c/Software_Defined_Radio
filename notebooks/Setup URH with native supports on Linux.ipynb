{
 "cells": [
  {
   "cell_type": "markdown",
   "metadata": {},
   "source": [
    "# Setup URH with native supports on Linux"
   ]
  },
  {
   "cell_type": "markdown",
   "metadata": {},
   "source": [
    "## Install SDR device libraries\n",
    "\n",
    "`sudo apt-get install -y libairspy-dev libhackrf-dev librtlsdr-dev libuhd-dev`  "
   ]
  },
  {
   "cell_type": "markdown",
   "metadata": {},
   "source": [
    "## Install URH\n",
    "\n",
    "download and unzip from `https://github.com/jopohl/urh`  \n",
    "\n",
    "cd to the top directory and install urh with:\n",
    "\n",
    "`python setup.py --with-airspy --with-hackrf --with-rtlsdr --with-usrp install  `  \n",
    "\n",
    "`python setup.py --with-airspy --with-hackrf --with-rtlsdr --with-usrp --with-sdrplay install  `"
   ]
  },
  {
   "cell_type": "markdown",
   "metadata": {},
   "source": [
    "## Copy .so files\n",
    "\n",
    "copy `*.so` files from `python/lib/python3.6/site-packages/urh/dev/native/lib`, for example:\n",
    "\n",
    "```\n",
    "['airspy.cpython-36m-x86_64-linux-gnu.so',\n",
    " 'hackrf.cpython-36m-x86_64-linux-gnu.so',\n",
    " 'rtlsdr.cpython-36m-x86_64-linux-gnu.so',\n",
    " 'usrp.cpython-36m-x86_64-linux-gnu.so']\n",
    " ```\n",
    " \n",
    " as zipped like [here](sdr_linux_so.rar)"
   ]
  },
  {
   "cell_type": "markdown",
   "metadata": {},
   "source": [
    "## Uninstall URH\n",
    "`pip uninstall urh`"
   ]
  },
  {
   "cell_type": "markdown",
   "metadata": {},
   "source": [
    "## Re-Install URH using `pip`\n",
    "`pip install urh`"
   ]
  },
  {
   "cell_type": "markdown",
   "metadata": {},
   "source": [
    "## Copy *.so files into target folder\n",
    "copy `*.so` files into `python/lib/python3.6/site-packages/urh/dev/native/lib`\n",
    "\n",
    "```\n",
    "['airspy.cpython-36m-x86_64-linux-gnu.so',\n",
    " 'hackrf.cpython-36m-x86_64-linux-gnu.so',\n",
    " 'rtlsdr.cpython-36m-x86_64-linux-gnu.so',\n",
    " 'usrp.cpython-36m-x86_64-linux-gnu.so']\n",
    " ```"
   ]
  },
  {
   "cell_type": "markdown",
   "metadata": {},
   "source": [
    "## Import from *.pyx files\n",
    "```\n",
    "import pyximport\n",
    "pyximport.install()\n",
    "```"
   ]
  },
  {
   "cell_type": "markdown",
   "metadata": {},
   "source": [
    "## Test\n",
    "\n",
    "Type `urh` under command prompt\n",
    "\n",
    "Try `import urh` in Python environment."
   ]
  }
 ],
 "metadata": {
  "kernelspec": {
   "display_name": "Python 3",
   "language": "python",
   "name": "python3"
  },
  "language_info": {
   "codemirror_mode": {
    "name": "ipython",
    "version": 3
   },
   "file_extension": ".py",
   "mimetype": "text/x-python",
   "name": "python",
   "nbconvert_exporter": "python",
   "pygments_lexer": "ipython3",
   "version": "3.6.10"
  }
 },
 "nbformat": 4,
 "nbformat_minor": 2
}
