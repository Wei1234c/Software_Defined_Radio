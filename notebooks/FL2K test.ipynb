{
 "cells": [
  {
   "cell_type": "markdown",
   "metadata": {},
   "source": [
    "# FL2K test"
   ]
  },
  {
   "cell_type": "markdown",
   "metadata": {},
   "source": [
    "### 需安裝\n",
    "\n",
    "```\n",
    "pip install pyusb\n",
    "\n",
    "```\n",
    "\n",
    "### Windows DLL\n",
    "[libusb-win32-devel-filter-1.2.6.0.exe](https://sourceforge.net/projects/libusb-win32/files/libusb-win32-releases/1.2.6.0/)  \n",
    "\n",
    "https://sourceforge.net/projects/libusb-win32/  \n",
    "\n",
    "\n",
    "\n",
    "### Linux 權限\n",
    "https://ubuntuforums.org/showthread.php?t=1682084  \n",
    "https://linuxconfig.org/tutorial-on-how-to-write-basic-udev-rules-in-linux  \n",
    "```\n",
    "If anyone is interested.. fixed with udev rule:\n",
    "\n",
    "cd /etc/udev/rules.d/\n",
    "\n",
    "nano 70-ch341.rules\n",
    "\n",
    "SUBSYSTEM==\"usb\", ATTRS{idVendor}==\"1a86\", GROUP=\"dialout\"\n",
    "SUBSYSTEM==\"usb\", ATTRS{idVendor}==\"1a86\", MODE=\"666\"\n",
    "\n",
    "# or \n",
    "SUBSYSTEM==\"usb\", GROUP=\"dialout\", MODE=\"666\"\n",
    "\n",
    "then reloaded udev rules:\n",
    "\n",
    "$ sudo udevadm control --reload-rules  \n",
    "$ sudo udevadm trigger\n",
    "\n",
    "```"
   ]
  },
  {
   "cell_type": "code",
   "execution_count": 1,
   "metadata": {},
   "outputs": [],
   "source": [
    "import os, sys\n",
    "\n",
    "def gen_relative_path(target_path): \n",
    "    \n",
    "    def del_same_parents(target_path, current_path):\n",
    "        if len(target_path) * len(current_path) > 0:\n",
    "            if target_path[0] == current_path[0]:\n",
    "                target_path.pop(0)\n",
    "                current_path.pop(0)\n",
    "                del_same_parents(target_path, current_path)\n",
    "            \n",
    "    current_path = os.getcwd().replace('\\\\', '/').split('/')\n",
    "    target_path = target_path.replace('\\\\', '/').split('/')\n",
    "    del_same_parents(target_path, current_path)\n",
    "    \n",
    "    return ['..'] * len(current_path) + target_path\n",
    "\n",
    "\n",
    "def append_source_relative_path(source_relative_path):\n",
    "    sys.path.append(os.sep.join(source_relative_path))"
   ]
  },
  {
   "cell_type": "code",
   "execution_count": 2,
   "metadata": {},
   "outputs": [],
   "source": [
    "# paths = ['']\n",
    "# paths = [gen_relative_path(p) for p in paths]\n",
    "# print(paths)"
   ]
  },
  {
   "cell_type": "code",
   "execution_count": 3,
   "metadata": {},
   "outputs": [],
   "source": [
    "paths = [['..', '..', '..', '..', 'USB', 'Universal Serial Bus', 'bitbucket', 'github', 'codes'],\n",
    "         ['..', '..', '..', '..', 'ORM', 'bitbucket', 'github', 'codes'],\n",
    "         ['..', 'codes']]\n",
    "\n",
    "for path in paths:\n",
    "    append_source_relative_path(path)"
   ]
  },
  {
   "cell_type": "code",
   "execution_count": 4,
   "metadata": {},
   "outputs": [
    {
     "name": "stdout",
     "output_type": "stream",
     "text": [
      "Populating the interactive namespace from numpy and matplotlib\n"
     ]
    }
   ],
   "source": [
    "%pylab inline  \n",
    "\n",
    "from universal_serial_bus import * \n",
    "from universal_serial_bus.orm.usb20 import USBdevice"
   ]
  },
  {
   "cell_type": "markdown",
   "metadata": {},
   "source": [
    "# Choose devices"
   ]
  },
  {
   "cell_type": "code",
   "execution_count": 5,
   "metadata": {},
   "outputs": [
    {
     "name": "stdout",
     "output_type": "stream",
     "text": [
      "DEVICE ID 8087:0a2a on Bus 001 Address 003, Wireless Controller\n",
      "DEVICE ID 534d:6021 on Bus 001 Address 006, Miscellaneous\n",
      "DEVICE ID 046d:c52b on Bus 001 Address 002, Specified at interface\n",
      "DEVICE ID 1df7:2500 on Bus 001 Address 004, Vendor-specific\n",
      "DEVICE ID 04f2:b57e on Bus 001 Address 001, Miscellaneous\n",
      "\n"
     ]
    }
   ],
   "source": [
    "print(usb.core.show_devices(verbose = False))"
   ]
  },
  {
   "cell_type": "code",
   "execution_count": 6,
   "metadata": {},
   "outputs": [
    {
     "data": {
      "text/plain": [
       "[<DEVICE ID 8087:0a2a on Bus 001 Address 003>,\n",
       " <DEVICE ID 534d:6021 on Bus 001 Address 006>,\n",
       " <DEVICE ID 046d:c52b on Bus 001 Address 002>,\n",
       " <DEVICE ID 1df7:2500 on Bus 001 Address 004>,\n",
       " <DEVICE ID 04f2:b57e on Bus 001 Address 001>]"
      ]
     },
     "execution_count": 6,
     "metadata": {},
     "output_type": "execute_result"
    }
   ],
   "source": [
    "import usb\n",
    "\n",
    "list(usb.core.find(find_all = True))"
   ]
  },
  {
   "cell_type": "code",
   "execution_count": 7,
   "metadata": {},
   "outputs": [
    {
     "data": {
      "text/plain": [
       "[(21325, 24609)]"
      ]
     },
     "execution_count": 7,
     "metadata": {},
     "output_type": "execute_result"
    }
   ],
   "source": [
    "_, devices = find_all_devices_by_class(DEVICE_CLASS.Audio)\n",
    "devices"
   ]
  },
  {
   "cell_type": "code",
   "execution_count": 8,
   "metadata": {},
   "outputs": [],
   "source": [
    "# vendor_id, product_id = 0x4d9, 0x2011  # Filco KB\n",
    "# vendor_id, product_id = 0x1b3f, 0x2008 # Sound Card  \n",
    "# vendor_id, product_id = 0x2341, 0x8036 # Arduino Leonardo \n",
    "vendor_id, product_id = 1118, 1915     # MS mouse  \n",
    "vendor_id, product_id = 0x045e, 0x077b     # MS mouse   \n",
    "vendor_id, product_id = 0x534d, 0x6021     # FL2K  \n",
    " \n",
    "dev = USBdevice(vendor_id, product_id, use_libusb0 = True)"
   ]
  },
  {
   "cell_type": "code",
   "execution_count": 9,
   "metadata": {},
   "outputs": [],
   "source": [
    "# def close(self):\n",
    "#     if self.is_open:\n",
    "#         usb.util.dispose_resources(self)\n",
    "#     self.finalize()\n",
    "#         # self.reset()\n",
    "    \n",
    "# close(dev)"
   ]
  },
  {
   "cell_type": "code",
   "execution_count": 10,
   "metadata": {},
   "outputs": [],
   "source": [
    "# dev.close()"
   ]
  },
  {
   "cell_type": "code",
   "execution_count": 11,
   "metadata": {},
   "outputs": [],
   "source": [
    "# dev.descriptors_byte_array"
   ]
  },
  {
   "cell_type": "code",
   "execution_count": 12,
   "metadata": {},
   "outputs": [],
   "source": [
    "# dev.device_descriptor"
   ]
  },
  {
   "cell_type": "code",
   "execution_count": 13,
   "metadata": {},
   "outputs": [],
   "source": [
    "# dev.descriptors_byte_array[dev.device_descriptor[0]:]"
   ]
  },
  {
   "cell_type": "code",
   "execution_count": 14,
   "metadata": {},
   "outputs": [],
   "source": [
    "# dev.descriptors_from_config"
   ]
  },
  {
   "cell_type": "code",
   "execution_count": 15,
   "metadata": {},
   "outputs": [
    {
     "data": {
      "text/plain": [
       "[array('B', [18, 1, 0, 2, 239, 2, 1, 64, 77, 83, 33, 96, 0, 1, 1, 2, 3, 1]),\n",
       " array('B', [9, 2, 159, 0, 4, 1, 0, 128, 250]),\n",
       " array('B', [9, 4, 0, 0, 1, 3, 0, 0, 0]),\n",
       " array('B', [9, 33, 16, 1, 33, 1, 34, 23, 0]),\n",
       " array('B', [7, 5, 129, 3, 4, 0, 16]),\n",
       " array('B', [8, 11, 1, 2, 1, 0, 0, 4]),\n",
       " array('B', [9, 4, 1, 0, 0, 1, 1, 0, 0]),\n",
       " array('B', [9, 36, 1, 0, 1, 40, 0, 1, 2]),\n",
       " array('B', [12, 36, 2, 0, 1, 1, 1, 2, 3, 0, 0, 0]),\n",
       " array('B', [9, 36, 3, 1, 1, 3, 0, 2, 0]),\n",
       " array('B', [10, 36, 6, 2, 0, 1, 1, 0, 0, 0]),\n",
       " array('B', [9, 4, 2, 0, 0, 1, 2, 0, 0]),\n",
       " array('B', [9, 4, 2, 1, 1, 1, 2, 0, 0]),\n",
       " array('B', [7, 36, 1, 0, 0, 1, 0]),\n",
       " array('B', [11, 36, 2, 1, 2, 2, 16, 1, 128, 187, 0]),\n",
       " array('B', [9, 5, 3, 1, 0, 2, 4, 0, 0]),\n",
       " array('B', [7, 37, 1, 0, 0, 0, 0]),\n",
       " array('B', [9, 4, 3, 0, 1, 255, 0, 0, 5]),\n",
       " array('B', [7, 5, 4, 2, 0, 2, 0])]"
      ]
     },
     "execution_count": 15,
     "metadata": {},
     "output_type": "execute_result"
    }
   ],
   "source": [
    "dev.descriptors"
   ]
  },
  {
   "cell_type": "code",
   "execution_count": 16,
   "metadata": {},
   "outputs": [
    {
     "data": {
      "text/plain": [
       "[(0, 'StandardDeviceDescriptor'),\n",
       " (1, 'StandardConfigurationDescriptor'),\n",
       " (2, 'StandardInterfaceDescriptor'),\n",
       " (3, 'StandardEndpointDescriptor'),\n",
       " (4, 'StandardInterfaceDescriptor'),\n",
       " (5, 'StandardInterfaceDescriptor'),\n",
       " (6, 'StandardInterfaceDescriptor'),\n",
       " (7, 'StandardEndpointDescriptor'),\n",
       " (8, 'StandardInterfaceDescriptor'),\n",
       " (9, 'StandardEndpointDescriptor')]"
      ]
     },
     "execution_count": 16,
     "metadata": {},
     "output_type": "execute_result"
    }
   ],
   "source": [
    "dev.descriptors_dbos_enum"
   ]
  },
  {
   "cell_type": "code",
   "execution_count": 17,
   "metadata": {},
   "outputs": [
    {
     "name": "stdout",
     "output_type": "stream",
     "text": [
      "StandardDeviceDescriptor\n",
      "\tbLength: 0x12\n",
      "\tbDescriptorType: 0x01\n",
      "\tbcdUSB: 0x0002\n",
      "\tbDeviceClass: 0xef\n",
      "\tbDeviceSubClass: 0x02\n",
      "\tbDeviceProtocol: 0x01\n",
      "\tbMaxPacketSize0: 0x40\n",
      "\tidVendor: 0x4d53\n",
      "\tidProduct: 0x2160\n",
      "\tbcdDevice: 0x0001\n",
      "\tiManufacturer: 0x01\n",
      "\tiProduct: 0x02\n",
      "\tiSerialNumber: 0x03\n",
      "\tbNumConfigurations: 0x01\n",
      "StandardConfigurationDescriptor\n",
      "\tbLength: 0x09\n",
      "\tbDescriptorType: 0x02\n",
      "\twTotalLength: 0x9f00\n",
      "\tbNumInterfaces: 0x04\n",
      "\tbConfigurationValue: 0x01\n",
      "\tiConfiguration: 0x00\n",
      "\tbmAttributes: 0x80\n",
      "\tbMaxPower: 0xfa\n",
      "StandardInterfaceDescriptor\n",
      "\tbLength: 0x09\n",
      "\tbDescriptorType: 0x04\n",
      "\tbInterfaceNumber: 0x00\n",
      "\tbAlternateSetting: 0x00\n",
      "\tbNumEndpoints: 0x01\n",
      "\tbInterfaceClass: 0x03\n",
      "\tbInterfaceSubClass: 0x00\n",
      "\tbInterfaceProtocol: 0x00\n",
      "\tiInterface: 0x00\n",
      "StandardEndpointDescriptor\n",
      "\tbLength: 0x07\n",
      "\tbDescriptorType: 0x05\n",
      "\tbEndpointAddress: 0x81\n",
      "\tbmAttributes: 0x03\n",
      "\twMaxPacketSize: 0x0400\n",
      "\tbInterval: 0x10\n",
      "StandardInterfaceDescriptor\n",
      "\tbLength: 0x09\n",
      "\tbDescriptorType: 0x04\n",
      "\tbInterfaceNumber: 0x01\n",
      "\tbAlternateSetting: 0x00\n",
      "\tbNumEndpoints: 0x00\n",
      "\tbInterfaceClass: 0x01\n",
      "\tbInterfaceSubClass: 0x01\n",
      "\tbInterfaceProtocol: 0x00\n",
      "\tiInterface: 0x00\n",
      "StandardInterfaceDescriptor\n",
      "\tbLength: 0x09\n",
      "\tbDescriptorType: 0x04\n",
      "\tbInterfaceNumber: 0x02\n",
      "\tbAlternateSetting: 0x00\n",
      "\tbNumEndpoints: 0x00\n",
      "\tbInterfaceClass: 0x01\n",
      "\tbInterfaceSubClass: 0x02\n",
      "\tbInterfaceProtocol: 0x00\n",
      "\tiInterface: 0x00\n",
      "StandardInterfaceDescriptor\n",
      "\tbLength: 0x09\n",
      "\tbDescriptorType: 0x04\n",
      "\tbInterfaceNumber: 0x02\n",
      "\tbAlternateSetting: 0x01\n",
      "\tbNumEndpoints: 0x01\n",
      "\tbInterfaceClass: 0x01\n",
      "\tbInterfaceSubClass: 0x02\n",
      "\tbInterfaceProtocol: 0x00\n",
      "\tiInterface: 0x00\n",
      "StandardEndpointDescriptor\n",
      "\tbLength: 0x09\n",
      "\tbDescriptorType: 0x05\n",
      "\tbEndpointAddress: 0x03\n",
      "\tbmAttributes: 0x01\n",
      "\twMaxPacketSize: 0x0002\n",
      "\tbInterval: 0x04\n",
      "StandardInterfaceDescriptor\n",
      "\tbLength: 0x09\n",
      "\tbDescriptorType: 0x04\n",
      "\tbInterfaceNumber: 0x03\n",
      "\tbAlternateSetting: 0x00\n",
      "\tbNumEndpoints: 0x01\n",
      "\tbInterfaceClass: 0xff\n",
      "\tbInterfaceSubClass: 0x00\n",
      "\tbInterfaceProtocol: 0x00\n",
      "\tiInterface: 0x05\n",
      "StandardEndpointDescriptor\n",
      "\tbLength: 0x07\n",
      "\tbDescriptorType: 0x05\n",
      "\tbEndpointAddress: 0x04\n",
      "\tbmAttributes: 0x02\n",
      "\twMaxPacketSize: 0x0002\n",
      "\tbInterval: 0x00\n"
     ]
    }
   ],
   "source": [
    "dev.print_descriptors_dbos()"
   ]
  },
  {
   "cell_type": "code",
   "execution_count": 18,
   "metadata": {},
   "outputs": [],
   "source": [
    "dev.close()"
   ]
  }
 ],
 "metadata": {
  "kernelspec": {
   "display_name": "Python 3",
   "language": "python",
   "name": "python3"
  },
  "language_info": {
   "codemirror_mode": {
    "name": "ipython",
    "version": 3
   },
   "file_extension": ".py",
   "mimetype": "text/x-python",
   "name": "python",
   "nbconvert_exporter": "python",
   "pygments_lexer": "ipython3",
   "version": "3.6.10"
  }
 },
 "nbformat": 4,
 "nbformat_minor": 2
}
